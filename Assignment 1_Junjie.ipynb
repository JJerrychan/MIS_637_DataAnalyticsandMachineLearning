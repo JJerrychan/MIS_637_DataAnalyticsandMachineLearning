{
 "cells": [
  {
   "cell_type": "markdown",
   "metadata": {},
   "source": [
    "1.Make up a data set consisting of eight scores on an exam in which one of the scores is an outlier.\n",
    "\n",
    "a.)  Find the mean score and the median score, with and without the outlier.  \n",
    "b.)  State which measure, the mean or the median, the presence of the outlier affects more, and why.   \n",
    "c.)  Verify that the outlier is indeed an outlier, using the IQR method."
   ]
  },
  {
   "cell_type": "code",
   "execution_count": 21,
   "metadata": {
    "scrolled": true
   },
   "outputs": [
    {
     "name": "stdout",
     "output_type": "stream",
     "text": [
      "mean(without outlier) = 88.0\n",
      "median(without outlier) = 89.0\n"
     ]
    }
   ],
   "source": [
    "score = [90,91,92,87,82,89,85]\n",
    "import numpy as np\n",
    "print(\"mean(without outlier) =\",np.mean(score))\n",
    "print(\"median(without outlier) =\",np.median(score))"
   ]
  },
  {
   "cell_type": "code",
   "execution_count": 22,
   "metadata": {},
   "outputs": [
    {
     "name": "stdout",
     "output_type": "stream",
     "text": [
      "mean = 90.625\n",
      "median = 89.5\n"
     ]
    }
   ],
   "source": [
    "score.append(109)\n",
    "print(\"mean =\",np.mean(score))\n",
    "print(\"median =\",np.median(score))"
   ]
  },
  {
   "cell_type": "markdown",
   "metadata": {},
   "source": [
    "b.) Outliers affect the mean value of the data but have little effect on the median or mode of a given set of data. Because the mean is non-resistant. That means, it's affected by outliers. More specifically, the mean will want to move towards the outlier."
   ]
  },
  {
   "cell_type": "code",
   "execution_count": 28,
   "metadata": {},
   "outputs": [
    {
     "name": "stdout",
     "output_type": "stream",
     "text": [
      "True\n"
     ]
    }
   ],
   "source": [
    "q1 = np.quantile(score,0.25)\n",
    "q3 = np.quantile(score,0.75)\n",
    "iqr = q3-q1\n",
    "print(109>(1.5*iqr+q3))"
   ]
  },
  {
   "cell_type": "markdown",
   "metadata": {},
   "source": [
    "2.sensor.csv contains 10005 measurements of a sensor. Using any method from lectures, identify the outliers in the data sensor.csv, if there is any. (You can use any necessary tools, like python or R to calculate the answer. You can submit your code with comments or just write a paragraph and explain your method with your answer in a word or pdf  document.)"
   ]
  },
  {
   "cell_type": "code",
   "execution_count": 29,
   "metadata": {},
   "outputs": [],
   "source": [
    "import pandas as pd"
   ]
  },
  {
   "cell_type": "code",
   "execution_count": 30,
   "metadata": {},
   "outputs": [],
   "source": [
    "sensor = pd.read_csv('sensor.csv')"
   ]
  },
  {
   "cell_type": "code",
   "execution_count": 32,
   "metadata": {},
   "outputs": [
    {
     "name": "stdout",
     "output_type": "stream",
     "text": [
      "[219.34]\n"
     ]
    }
   ],
   "source": [
    "Q1 = np.quantile(sensor['Measurement'],0.25)\n",
    "Q3 = np.quantile(sensor['Measurement'],0.75)\n",
    "IQR = Q3-Q1\n",
    "\n",
    "Outliers=[]\n",
    "\n",
    "for i in range(len(sensor['Measurement'])-1):\n",
    "    value = sensor['Measurement'][i]\n",
    "    if value<Q1-1.5*IQR:\n",
    "        Outliers.append(value)\n",
    "    elif value>Q3+1.5*IQR:\n",
    "        Outliers.append(value)\n",
    "        \n",
    "print(Outliers)"
   ]
  }
 ],
 "metadata": {
  "interpreter": {
   "hash": "63fd5069d213b44bf678585dea6b12cceca9941eaf7f819626cde1f2670de90d"
  },
  "kernelspec": {
   "display_name": "Python 3.9.1 64-bit",
   "name": "python3"
  },
  "language_info": {
   "codemirror_mode": {
    "name": "ipython",
    "version": 3
   },
   "file_extension": ".py",
   "mimetype": "text/x-python",
   "name": "python",
   "nbconvert_exporter": "python",
   "pygments_lexer": "ipython3",
   "version": "3.9.1"
  }
 },
 "nbformat": 4,
 "nbformat_minor": 5
}
